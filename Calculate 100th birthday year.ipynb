{
 "cells": [
  {
   "cell_type": "code",
   "execution_count": 1,
   "metadata": {},
   "outputs": [
    {
     "name": "stdout",
     "output_type": "stream",
     "text": [
      "Viraj, you will turn 100 years old in the year 2100.\n"
     ]
    }
   ],
   "source": [
    "def calculate_year_of_100th_birthday(name, age):\n",
    "    current_year = 2024  # assuming the current year is 2024\n",
    "    year_of_100th_birthday = current_year + (100 - age)\n",
    "    return year_of_100th_birthday\n",
    "\n",
    "def main():\n",
    "    name = input(\"Please enter your name: \")\n",
    "    age = int(input(\"Please enter your age: \"))\n",
    "    \n",
    "    year = calculate_year_of_100th_birthday(name, age)\n",
    "    print(f\"{name}, you will turn 100 years old in the year {year}.\")\n",
    "\n",
    "if __name__ == \"__main__\":\n",
    "    main()\n"
   ]
  },
  {
   "cell_type": "code",
   "execution_count": null,
   "metadata": {},
   "outputs": [],
   "source": []
  }
 ],
 "metadata": {
  "kernelspec": {
   "display_name": "Python 3",
   "language": "python",
   "name": "python3"
  },
  "language_info": {
   "codemirror_mode": {
    "name": "ipython",
    "version": 3
   },
   "file_extension": ".py",
   "mimetype": "text/x-python",
   "name": "python",
   "nbconvert_exporter": "python",
   "pygments_lexer": "ipython3",
   "version": "3.11.5"
  }
 },
 "nbformat": 4,
 "nbformat_minor": 2
}
